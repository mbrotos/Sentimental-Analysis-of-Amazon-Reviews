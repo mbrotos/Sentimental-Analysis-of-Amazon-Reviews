{
 "cells": [
  {
   "cell_type": "code",
   "execution_count": 1,
   "metadata": {},
   "outputs": [],
   "source": [
    "import numpy as np\n",
    "import pandas as pd\n",
    "import random\n",
    "import json\n",
    "\n",
    "from sklearn import metrics\n",
    "from sklearn.model_selection import train_test_split\n",
    "from sklearn.naive_bayes import MultinomialNB, BernoulliNB, GaussianNB, ComplementNB\n",
    "from sklearn.feature_extraction.text import CountVectorizer\n",
    "from sklearn.pipeline import make_pipeline\n",
    "from sklearn.preprocessing import StandardScaler\n",
    "from sklearn.svm import SVC\n",
    "from sklearn.linear_model import LogisticRegression\n",
    "from sklearn.svm import LinearSVC\n",
    "from sklearn.feature_selection import SelectFromModel\n",
    "from sklearn.feature_selection import VarianceThreshold\n",
    "\n",
    "import matplotlib.pyplot as plt\n",
    "from nltk.tokenize import RegexpTokenizer\n",
    "\n",
    "import variations\n",
    "import classifiers\n",
    "token = RegexpTokenizer(r'[a-zA-Z0-9]+')"
   ]
  },
  {
   "cell_type": "code",
   "execution_count": 2,
   "metadata": {},
   "outputs": [],
   "source": [
    "clf = LogisticRegression(max_iter=1000, random_state=1)"
   ]
  },
  {
   "cell_type": "code",
   "execution_count": 3,
   "metadata": {},
   "outputs": [],
   "source": [
    "data = pd.read_csv('merged.csv')"
   ]
  },
  {
   "cell_type": "code",
   "execution_count": 4,
   "metadata": {},
   "outputs": [],
   "source": [
    "t_text = variations.tfidf(data, token.tokenize)"
   ]
  },
  {
   "cell_type": "code",
   "execution_count": 5,
   "metadata": {},
   "outputs": [],
   "source": [
    "X_train, X_test, y_train, y_test = train_test_split(t_text, data['Rating'], test_size=0.2, random_state=1) # Note test is never used!!\n",
    "X_train, X_val, y_train, y_val = train_test_split(X_train, y_train, test_size=0.25, random_state=1)"
   ]
  },
  {
   "cell_type": "code",
   "execution_count": 6,
   "metadata": {},
   "outputs": [],
   "source": [
    "clf.fit(X_train, y_train)\n",
    "predict = clf.predict(X_val)"
   ]
  },
  {
   "cell_type": "code",
   "execution_count": 7,
   "metadata": {},
   "outputs": [],
   "source": [
    "mislabelledI = []\n",
    "for count, i in enumerate(y_val.keys()):\n",
    "    if y_val.loc[i] != predict[count]:\n",
    "        mislabelledI.append([i, data['Summary and Review'].iloc[i], predict[count], y_val.loc[i]])\n",
    "df = pd.DataFrame(data = mislabelledI, columns = ['Index','Review','Predicted','True'])"
   ]
  },
  {
   "cell_type": "code",
   "execution_count": 10,
   "metadata": {},
   "outputs": [
    {
     "output_type": "execute_result",
     "data": {
      "text/plain": [
       "'Not as expected! Pages stuck together and when separated, the holes ripped in some cases.  Would not buy again.'"
      ]
     },
     "metadata": {},
     "execution_count": 10
    }
   ],
   "source": [
    "df.iloc[1]['Review']"
   ]
  },
  {
   "cell_type": "code",
   "execution_count": 11,
   "metadata": {},
   "outputs": [
    {
     "output_type": "execute_result",
     "data": {
      "text/plain": [
       "       Index                                             Review  Predicted  \\\n",
       "0      47643                       Three Stars Do not last long          1   \n",
       "1      13885  Not as expected! Pages stuck together and when...          0   \n",
       "2     130203  Intuit product - avoid I keep looking for some...          1   \n",
       "3      44970  good I liked the product was what I expected a...          1   \n",
       "4      88065                Two Stars very flimsy - bend easily          1   \n",
       "...      ...                                                ...        ...   \n",
       "2469   57288  meh Cheap. Does the job semi-well. When nearin...          1   \n",
       "2470   99388  Be careful when you register online Just be ca...          1   \n",
       "2471  120612                                Three Stars like it          1   \n",
       "2472   84180  Came dirty. One panel is fine, but the other o...          1   \n",
       "2473  112151  good deal Brushes work great butt the picks ar...          1   \n",
       "\n",
       "      True  \n",
       "0        0  \n",
       "1        1  \n",
       "2        0  \n",
       "3        0  \n",
       "4        0  \n",
       "...    ...  \n",
       "2469     0  \n",
       "2470     0  \n",
       "2471     0  \n",
       "2472     0  \n",
       "2473     0  \n",
       "\n",
       "[2474 rows x 4 columns]"
      ],
      "text/html": "<div>\n<style scoped>\n    .dataframe tbody tr th:only-of-type {\n        vertical-align: middle;\n    }\n\n    .dataframe tbody tr th {\n        vertical-align: top;\n    }\n\n    .dataframe thead th {\n        text-align: right;\n    }\n</style>\n<table border=\"1\" class=\"dataframe\">\n  <thead>\n    <tr style=\"text-align: right;\">\n      <th></th>\n      <th>Index</th>\n      <th>Review</th>\n      <th>Predicted</th>\n      <th>True</th>\n    </tr>\n  </thead>\n  <tbody>\n    <tr>\n      <th>0</th>\n      <td>47643</td>\n      <td>Three Stars Do not last long</td>\n      <td>1</td>\n      <td>0</td>\n    </tr>\n    <tr>\n      <th>1</th>\n      <td>13885</td>\n      <td>Not as expected! Pages stuck together and when...</td>\n      <td>0</td>\n      <td>1</td>\n    </tr>\n    <tr>\n      <th>2</th>\n      <td>130203</td>\n      <td>Intuit product - avoid I keep looking for some...</td>\n      <td>1</td>\n      <td>0</td>\n    </tr>\n    <tr>\n      <th>3</th>\n      <td>44970</td>\n      <td>good I liked the product was what I expected a...</td>\n      <td>1</td>\n      <td>0</td>\n    </tr>\n    <tr>\n      <th>4</th>\n      <td>88065</td>\n      <td>Two Stars very flimsy - bend easily</td>\n      <td>1</td>\n      <td>0</td>\n    </tr>\n    <tr>\n      <th>...</th>\n      <td>...</td>\n      <td>...</td>\n      <td>...</td>\n      <td>...</td>\n    </tr>\n    <tr>\n      <th>2469</th>\n      <td>57288</td>\n      <td>meh Cheap. Does the job semi-well. When nearin...</td>\n      <td>1</td>\n      <td>0</td>\n    </tr>\n    <tr>\n      <th>2470</th>\n      <td>99388</td>\n      <td>Be careful when you register online Just be ca...</td>\n      <td>1</td>\n      <td>0</td>\n    </tr>\n    <tr>\n      <th>2471</th>\n      <td>120612</td>\n      <td>Three Stars like it</td>\n      <td>1</td>\n      <td>0</td>\n    </tr>\n    <tr>\n      <th>2472</th>\n      <td>84180</td>\n      <td>Came dirty. One panel is fine, but the other o...</td>\n      <td>1</td>\n      <td>0</td>\n    </tr>\n    <tr>\n      <th>2473</th>\n      <td>112151</td>\n      <td>good deal Brushes work great butt the picks ar...</td>\n      <td>1</td>\n      <td>0</td>\n    </tr>\n  </tbody>\n</table>\n<p>2474 rows × 4 columns</p>\n</div>"
     },
     "metadata": {},
     "execution_count": 11
    }
   ],
   "source": [
    "df"
   ]
  },
  {
   "cell_type": "code",
   "execution_count": null,
   "metadata": {},
   "outputs": [],
   "source": []
  },
  {
   "cell_type": "code",
   "execution_count": null,
   "metadata": {},
   "outputs": [],
   "source": []
  }
 ],
 "metadata": {
  "kernelspec": {
   "name": "python3",
   "display_name": "Python 3.8.6 64-bit",
   "metadata": {
    "interpreter": {
     "hash": "066b363d757b75dcfdfbe117fc583c5d3972e24b230ee808f3c48f10e902d911"
    }
   }
  },
  "language_info": {
   "codemirror_mode": {
    "name": "ipython",
    "version": 3
   },
   "file_extension": ".py",
   "mimetype": "text/x-python",
   "name": "python",
   "nbconvert_exporter": "python",
   "pygments_lexer": "ipython3",
   "version": "3.8.6-final"
  }
 },
 "nbformat": 4,
 "nbformat_minor": 2
}