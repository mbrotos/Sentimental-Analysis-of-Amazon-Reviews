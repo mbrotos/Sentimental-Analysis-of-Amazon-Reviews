{
 "metadata": {
  "language_info": {
   "codemirror_mode": {
    "name": "ipython",
    "version": 3
   },
   "file_extension": ".py",
   "mimetype": "text/x-python",
   "name": "python",
   "nbconvert_exporter": "python",
   "pygments_lexer": "ipython3",
   "version": "3.8.6-final"
  },
  "orig_nbformat": 2,
  "kernelspec": {
   "name": "python3",
   "display_name": "Python 3.8.6 64-bit",
   "metadata": {
    "interpreter": {
     "hash": "066b363d757b75dcfdfbe117fc583c5d3972e24b230ee808f3c48f10e902d911"
    }
   }
  }
 },
 "nbformat": 4,
 "nbformat_minor": 2,
 "cells": [
  {
   "cell_type": "code",
   "execution_count": 1,
   "metadata": {},
   "outputs": [],
   "source": [
    "import numpy as np\n",
    "import pandas as pd\n",
    "import random\n",
    "import json\n",
    "import variations"
   ]
  },
  {
   "cell_type": "code",
   "execution_count": 2,
   "metadata": {},
   "outputs": [],
   "source": [
    "data = pd.read_csv('dataFrame.csv')"
   ]
  },
  {
   "cell_type": "code",
   "execution_count": 3,
   "metadata": {},
   "outputs": [
    {
     "output_type": "execute_result",
     "data": {
      "text/plain": [
       "                                      Summary and Review  Rating\n",
       "0      A solid overview of Dreamweaver CS5 I've been ...       1\n",
       "1      A good value The demo is done with the PC vers...       1\n",
       "2      This is excellent software for those who want ...       1\n",
       "3      A Fantastic Overview of Dream Weaver and Web D...       1\n",
       "4      Excellent Tutorials! I decided (after trying a...       1\n",
       "...                                                  ...     ...\n",
       "12793  File Management Software with Basic Editing Ca...       1\n",
       "12794  Might not be for the \"novice\" This software ha...       0\n",
       "12795  Great, Inexpensive Software for Those Who Have...       1\n",
       "12796  Gets the job done ... but not as easy as it sh...       1\n",
       "12797  Good overall program. A program that is fairly...       1\n",
       "\n",
       "[12798 rows x 2 columns]"
      ],
      "text/html": "<div>\n<style scoped>\n    .dataframe tbody tr th:only-of-type {\n        vertical-align: middle;\n    }\n\n    .dataframe tbody tr th {\n        vertical-align: top;\n    }\n\n    .dataframe thead th {\n        text-align: right;\n    }\n</style>\n<table border=\"1\" class=\"dataframe\">\n  <thead>\n    <tr style=\"text-align: right;\">\n      <th></th>\n      <th>Summary and Review</th>\n      <th>Rating</th>\n    </tr>\n  </thead>\n  <tbody>\n    <tr>\n      <th>0</th>\n      <td>A solid overview of Dreamweaver CS5 I've been ...</td>\n      <td>1</td>\n    </tr>\n    <tr>\n      <th>1</th>\n      <td>A good value The demo is done with the PC vers...</td>\n      <td>1</td>\n    </tr>\n    <tr>\n      <th>2</th>\n      <td>This is excellent software for those who want ...</td>\n      <td>1</td>\n    </tr>\n    <tr>\n      <th>3</th>\n      <td>A Fantastic Overview of Dream Weaver and Web D...</td>\n      <td>1</td>\n    </tr>\n    <tr>\n      <th>4</th>\n      <td>Excellent Tutorials! I decided (after trying a...</td>\n      <td>1</td>\n    </tr>\n    <tr>\n      <th>...</th>\n      <td>...</td>\n      <td>...</td>\n    </tr>\n    <tr>\n      <th>12793</th>\n      <td>File Management Software with Basic Editing Ca...</td>\n      <td>1</td>\n    </tr>\n    <tr>\n      <th>12794</th>\n      <td>Might not be for the \"novice\" This software ha...</td>\n      <td>0</td>\n    </tr>\n    <tr>\n      <th>12795</th>\n      <td>Great, Inexpensive Software for Those Who Have...</td>\n      <td>1</td>\n    </tr>\n    <tr>\n      <th>12796</th>\n      <td>Gets the job done ... but not as easy as it sh...</td>\n      <td>1</td>\n    </tr>\n    <tr>\n      <th>12797</th>\n      <td>Good overall program. A program that is fairly...</td>\n      <td>1</td>\n    </tr>\n  </tbody>\n</table>\n<p>12798 rows × 2 columns</p>\n</div>"
     },
     "metadata": {},
     "execution_count": 3
    }
   ],
   "source": [
    "data"
   ]
  },
  {
   "cell_type": "code",
   "execution_count": 4,
   "metadata": {},
   "outputs": [],
   "source": [
    "from nltk.tokenize import RegexpTokenizer\n",
    "token = RegexpTokenizer(r'[a-zA-Z0-9]+')"
   ]
  },
  {
   "cell_type": "code",
   "execution_count": 5,
   "metadata": {},
   "outputs": [],
   "source": [
    "text_o = variations.bagOfWordsAll(data,token)"
   ]
  },
  {
   "cell_type": "code",
   "execution_count": 6,
   "metadata": {},
   "outputs": [
    {
     "output_type": "execute_result",
     "data": {
      "text/plain": [
       "(12798, 27251)"
      ]
     },
     "metadata": {},
     "execution_count": 6
    }
   ],
   "source": [
    "text_o.shape"
   ]
  },
  {
   "cell_type": "code",
   "execution_count": 7,
   "metadata": {},
   "outputs": [],
   "source": [
    "text_t = variations.bagOfWordsAll_NEG(data,token)"
   ]
  },
  {
   "cell_type": "code",
   "execution_count": null,
   "metadata": {},
   "outputs": [],
   "source": []
  }
 ]
}