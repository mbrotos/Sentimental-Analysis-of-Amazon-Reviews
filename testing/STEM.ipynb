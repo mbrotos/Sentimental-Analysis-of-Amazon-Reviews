{
 "cells": [
  {
   "cell_type": "code",
   "execution_count": 1,
   "metadata": {},
   "outputs": [],
   "source": [
    "import getAllData as gd\n",
    "import numpy as np\n",
    "import pandas as pd\n",
    "import random\n",
    "import json\n",
    "import re\n",
    "\n",
    "from sklearn.tree import DecisionTreeClassifier\n",
    "from sklearn.neighbors import KNeighborsClassifier\n",
    "from sklearn.svm import LinearSVC\n",
    "from sklearn import metrics\n",
    "from sklearn.model_selection import train_test_split\n",
    "from sklearn.naive_bayes import MultinomialNB, BernoulliNB, GaussianNB, ComplementNB\n",
    "from sklearn.feature_extraction.text import CountVectorizer, TfidfVectorizer\n",
    "from sklearn.linear_model import LogisticRegression\n",
    "\n",
    "import matplotlib.pyplot as plt\n",
    "from nltk.tokenize import RegexpTokenizer\n",
    "from nltk.stem.porter import PorterStemmer\n",
    "from nltk.sentiment.util import mark_negation"
   ]
  },
  {
   "cell_type": "code",
   "execution_count": 2,
   "metadata": {},
   "outputs": [],
   "source": [
    "data = pd.read_csv('merged.csv', index_col=0)\n",
    "token = RegexpTokenizer(r'[a-zA-Z0-9]+').tokenize"
   ]
  },
  {
   "cell_type": "code",
   "execution_count": 7,
   "metadata": {},
   "outputs": [
    {
     "output_type": "execute_result",
     "data": {
      "text/plain": [
       "'Five Stars Love these shoes! Great fit, very light weight.'"
      ]
     },
     "metadata": {},
     "execution_count": 7
    }
   ],
   "source": [
    "stemmed = data.iloc[1]['Summary and Review']"
   ]
  },
  {
   "cell_type": "code",
   "execution_count": 9,
   "metadata": {},
   "outputs": [],
   "source": [
    "stemmed = gd.stemData(data.copy())\n",
    "bow_stem_data = gd.bow(stemmed, token, 'bow_stem.txt')"
   ]
  },
  {
   "cell_type": "code",
   "execution_count": 10,
   "metadata": {},
   "outputs": [
    {
     "data": {
      "text/plain": [
       "<145148x49764 sparse matrix of type '<class 'numpy.int64'>'\n",
       "\twith 3435923 stored elements in Compressed Sparse Row format>"
      ]
     },
     "execution_count": 10,
     "metadata": {},
     "output_type": "execute_result"
    }
   ],
   "source": [
    "bow_stem_data"
   ]
  },
  {
   "cell_type": "code",
   "execution_count": 11,
   "metadata": {},
   "outputs": [],
   "source": [
    "X_train, X_test, y_train, y_test = train_test_split(bow_stem_data, data['Rating'], test_size=0.2, random_state=1) # Note test is never used!!\n",
    "X_train, X_val, y_train, y_val = train_test_split(X_train, y_train, test_size=0.25, random_state=1)"
   ]
  },
  {
   "cell_type": "code",
   "execution_count": 6,
   "metadata": {},
   "outputs": [
    {
     "name": "stdout",
     "output_type": "stream",
     "text": [
      "------------------------------------------------------\n",
      "Logistic (max_iter:1000)\n",
      "STEM BOW-Train 94.04740033069999\n",
      "[[ 6934  4240]\n",
      " [  944 74970]]\n",
      "STEM BOW-Valid 89.91732690320359\n",
      "[[ 1695  2027]\n",
      " [  900 24408]]\n",
      "STEM BOW-Test 90.11367550809507\n",
      "[[ 1716  2063]\n",
      " [  807 24444]]\n",
      "------------------------------------------------------\n",
      "Multinomial NB\n",
      "STEM BOW-Train 90.13871027007166\n",
      "[[ 5215  5959]\n",
      " [ 2629 73285]]\n",
      "STEM BOW-Valid 87.86427833275921\n",
      "[[ 1435  2287]\n",
      " [ 1236 24072]]\n",
      "STEM BOW-Test 88.34653806407164\n",
      "[[ 1525  2254]\n",
      " [ 1129 24122]]\n",
      "------------------------------------------------------\n",
      "Linear SVC (max_iter:15000)\n"
     ]
    },
    {
     "name": "stderr",
     "output_type": "stream",
     "text": [
      "/Users/sagar/anaconda3/lib/python3.7/site-packages/sklearn/svm/_base.py:947: ConvergenceWarning: Liblinear failed to converge, increase the number of iterations.\n",
      "  \"the number of iterations.\", ConvergenceWarning)\n"
     ]
    },
    {
     "name": "stdout",
     "output_type": "stream",
     "text": [
      "STEM BOW-Train 95.92595994855778\n",
      "[[ 8290  2884]\n",
      " [  664 75250]]\n",
      "STEM BOW-Valid 89.08026179813986\n",
      "[[ 1763  1959]\n",
      " [ 1211 24097]]\n",
      "STEM BOW-Test 89.14226662073716\n",
      "[[ 1793  1986]\n",
      " [ 1166 24085]]\n",
      "------------------------------------------------------\n",
      "KNN K:1\n",
      "STEM BOW-Train 99.04349623369465\n",
      "[[10886   288]\n",
      " [  545 75369]]\n",
      "STEM BOW-Valid 84.97760936961764\n",
      "[[ 1293  2429]\n",
      " [ 1932 23376]]\n",
      "STEM BOW-Test 84.8122631760248\n",
      "[[ 1330  2449]\n",
      " [ 1960 23291]]\n",
      "------------------------------------------------------\n",
      "KNN K:3\n",
      "STEM BOW-Train 91.74283483373141\n",
      "[[ 5211  5963]\n",
      " [ 1228 74686]]\n",
      "STEM BOW-Valid 87.7402686875646\n",
      "[[  972  2750]\n",
      " [  809 24499]]\n",
      "STEM BOW-Test 87.75404753703066\n",
      "[[ 1005  2774]\n",
      " [  781 24470]]\n",
      "------------------------------------------------------\n",
      "KNN K:5\n",
      "STEM BOW-Train 89.93661583685467\n",
      "[[ 3517  7657]\n",
      " [ 1107 74807]]\n",
      "STEM BOW-Valid 88.03651395108508\n",
      "[[  810  2912]\n",
      " [  561 24747]]\n",
      "STEM BOW-Test 88.03651395108508\n",
      "[[  819  2960]\n",
      " [  513 24738]]\n",
      "------------------------------------------------------\n",
      "DT (Baseline)\n",
      "STEM BOW-Train 99.52347051258496\n",
      "[[10916   258]\n",
      " [  157 75757]]\n",
      "STEM BOW-Valid 86.44505683775405\n",
      "[[ 1645  2077]\n",
      " [ 1858 23450]]\n",
      "STEM BOW-Test 86.77919393730623\n",
      "[[ 1679  2100]\n",
      " [ 1738 23513]]\n",
      "------------------------------------------------------\n",
      "DT (criterion:entropy, max_depth:3)\n",
      "STEM BOW-Train 87.71013227999265\n",
      "[[  938 10236]\n",
      " [  467 75447]]\n",
      "STEM BOW-Valid 87.70926627626594\n",
      "[[  308  3414]\n",
      " [  154 25154]]\n",
      "STEM BOW-Test 87.5852566310713\n",
      "[[  310  3469]\n",
      " [  135 25116]]\n",
      "------------------------------------------------------\n",
      "DT (max_depth:5)\n",
      "STEM BOW-Train 88.22110968216057\n",
      "[[ 1723  9451]\n",
      " [  807 75107]]\n",
      "STEM BOW-Valid 88.08473992421632\n",
      "[[  548  3174]\n",
      " [  285 25023]]\n",
      "STEM BOW-Test 87.95384085428867\n",
      "[[  543  3236]\n",
      " [  261 24990]]\n"
     ]
    }
   ],
   "source": [
    "\n",
    "classifiers = [\n",
    "    (LogisticRegression(max_iter=1000), 'Logistic (max_iter:1000)'),\n",
    "    (MultinomialNB(), 'Multinomial NB'),\n",
    "    (LinearSVC(max_iter=15000), 'Linear SVC (max_iter:15000)'),\n",
    "    (KNeighborsClassifier(n_neighbors=1), 'KNN K:1'),\n",
    "    (KNeighborsClassifier(n_neighbors=3), 'KNN K:3'),\n",
    "    (KNeighborsClassifier(n_neighbors=5), 'KNN K:5'),\n",
    "    (DecisionTreeClassifier(), 'DT (Baseline)'),\n",
    "    (DecisionTreeClassifier(criterion=\"entropy\", max_depth=3), 'DT (criterion:entropy, max_depth:3)'),\n",
    "    (DecisionTreeClassifier(max_depth=5), 'DT (max_depth:5)')\n",
    "    \n",
    "]\n",
    "\n",
    "for clf, name in classifiers:\n",
    "    print('------------------------------------------------------')\n",
    "    print(name)\n",
    "    clf.fit(X_train, y_train)\n",
    "    predictTrain = clf.predict(X_train)\n",
    "    accuracy_score = metrics.accuracy_score(predictTrain, y_train)\n",
    "    print('STEM BOW-Train ' + str(accuracy_score * 100))\n",
    "    print(metrics.confusion_matrix(y_train, predictTrain))\n",
    "    predictval = clf.predict(X_val)\n",
    "    accuracy_score = metrics.accuracy_score(predictval, y_val)\n",
    "    print('STEM BOW-Valid ' + str(accuracy_score * 100))\n",
    "    print(metrics.confusion_matrix(y_val, predictval))\n",
    "    predicttest = clf.predict(X_test)\n",
    "    accuracy_score = metrics.accuracy_score(predicttest, y_test)\n",
    "    print('STEM BOW-Test ' + str(accuracy_score * 100))\n",
    "    print(metrics.confusion_matrix(y_test, predicttest))"
   ]
  },
  {
   "cell_type": "code",
   "execution_count": 6,
   "metadata": {},
   "outputs": [
    {
     "name": "stdout",
     "output_type": "stream",
     "text": [
      "STEM BOW-LOGISTIC 90.23701253961693\n",
      "[[ 1700  2012]\n",
      " [  822 24494]]\n"
     ]
    }
   ],
   "source": [
    "clf = LogisticRegression(max_iter=1000).fit(X_train, y_train)\n",
    "predict = clf.predict(X_val)\n",
    "accuracy_score = metrics.accuracy_score(predict, y_val)\n",
    "print('STEM BOW-LOGISTIC ' + str(accuracy_score * 100))\n",
    "print(metrics.confusion_matrix(y_val, predict))"
   ]
  },
  {
   "cell_type": "code",
   "execution_count": 7,
   "metadata": {},
   "outputs": [
    {
     "name": "stdout",
     "output_type": "stream",
     "text": [
      "STEM BOW-Multinomial 88.35262505167425\n",
      "[[ 1503  2209]\n",
      " [ 1172 24144]]\n"
     ]
    }
   ],
   "source": [
    "clfM = MultinomialNB().fit(X_train, y_train)\n",
    "predictM = clfM.predict(X_val)\n",
    "accuracy_scoreM = metrics.accuracy_score(predictM, y_val)\n",
    "print('STEM BOW-Multinomial ' + str(accuracy_scoreM * 100))\n",
    "print(metrics.confusion_matrix(y_val, predictM))"
   ]
  },
  {
   "cell_type": "code",
   "execution_count": 13,
   "metadata": {},
   "outputs": [
    {
     "name": "stdout",
     "output_type": "stream",
     "text": [
      "STEM BOW-Train 95.93170126768327\n",
      "[[ 8294  2880]\n",
      " [  663 75251]]\n",
      "STEM BOW-Valid 89.07681708577334\n",
      "[[ 1762  1960]\n",
      " [ 1211 24097]]\n",
      "STEM BOW-Test 89.15949018256975\n",
      "[[ 1795  1984]\n",
      " [ 1163 24088]]\n"
     ]
    }
   ],
   "source": [
    "#SVM\n",
    "clf = LinearSVC(max_iter=25000).fit(X_train, y_train)\n",
    "clf.fit(X_train, y_train)\n",
    "predictTrain = clf.predict(X_train)\n",
    "accuracy_score = metrics.accuracy_score(predictTrain, y_train)\n",
    "print('STEM BOW-Train ' + str(accuracy_score * 100))\n",
    "print(metrics.confusion_matrix(y_train, predictTrain))\n",
    "predictval = clf.predict(X_val)\n",
    "accuracy_score = metrics.accuracy_score(predictval, y_val)\n",
    "print('STEM BOW-Valid ' + str(accuracy_score * 100))\n",
    "print(metrics.confusion_matrix(y_val, predictval))\n",
    "predicttest = clf.predict(X_test)\n",
    "accuracy_score = metrics.accuracy_score(predicttest, y_test)\n",
    "print('STEM BOW-Test ' + str(accuracy_score * 100))\n",
    "print(metrics.confusion_matrix(y_test, predicttest))"
   ]
  },
  {
   "cell_type": "code",
   "execution_count": 10,
   "metadata": {},
   "outputs": [
    {
     "name": "stdout",
     "output_type": "stream",
     "text": [
      "STEM BOW-KNN-1 85.7895824720959\n",
      "[[ 1102  2610]\n",
      " [ 1515 23801]]\n"
     ]
    }
   ],
   "source": [
    "#KNN\n",
    "clfK = KNeighborsClassifier(n_neighbors=1).fit(X_train, y_train)\n",
    "predictK = clfK.predict(X_val)\n",
    "accuracy_scoreK = metrics.accuracy_score(predictK, y_val)\n",
    "print('STEM BOW-KNN-1 ' + str(accuracy_scoreK * 100))\n",
    "print(metrics.confusion_matrix(y_val, predictK))"
   ]
  },
  {
   "cell_type": "code",
   "execution_count": 11,
   "metadata": {},
   "outputs": [
    {
     "name": "stdout",
     "output_type": "stream",
     "text": [
      "STEM BOW-KNN-3 87.91856138900373\n",
      "[[  825  2887]\n",
      " [  620 24696]]\n"
     ]
    }
   ],
   "source": [
    "#KNN\n",
    "clfK = KNeighborsClassifier(n_neighbors=3).fit(X_train, y_train)\n",
    "predictK = clfK.predict(X_val)\n",
    "accuracy_scoreK = metrics.accuracy_score(predictK, y_val)\n",
    "print('STEM BOW-KNN-3 ' + str(accuracy_scoreK * 100))\n",
    "print(metrics.confusion_matrix(y_val, predictK))"
   ]
  },
  {
   "cell_type": "code",
   "execution_count": 12,
   "metadata": {},
   "outputs": [
    {
     "name": "stdout",
     "output_type": "stream",
     "text": [
      "STEM BOW-KNN-5 87.95301088604106\n",
      "[[  667  3045]\n",
      " [  452 24864]]\n"
     ]
    }
   ],
   "source": [
    "#KNN\n",
    "clfK = KNeighborsClassifier(n_neighbors=5).fit(X_train, y_train)\n",
    "predictK = clfK.predict(X_val)\n",
    "accuracy_scoreK = metrics.accuracy_score(predictK, y_val)\n",
    "print('STEM BOW-KNN-5 ' + str(accuracy_scoreK * 100))\n",
    "print(metrics.confusion_matrix(y_val, predictK))"
   ]
  },
  {
   "cell_type": "code",
   "execution_count": 13,
   "metadata": {},
   "outputs": [
    {
     "name": "stdout",
     "output_type": "stream",
     "text": [
      "STEM BOW-Decision Tree 86.62326030039962\n",
      "[[ 1599  2113]\n",
      " [ 1770 23546]]\n"
     ]
    }
   ],
   "source": [
    "#DECISION TREE\n",
    "clfD = DecisionTreeClassifier().fit(X_train, y_train)\n",
    "predictD = clfD.predict(X_val)\n",
    "accuracy_scoreD = metrics.accuracy_score(predictD, y_val)\n",
    "print('STEM BOW-Decision Tree ' + str(accuracy_scoreD * 100))\n",
    "print(metrics.confusion_matrix(y_val, predictD))"
   ]
  },
  {
   "cell_type": "code",
   "execution_count": 14,
   "metadata": {},
   "outputs": [
    {
     "name": "stdout",
     "output_type": "stream",
     "text": [
      "STEM BOW-Decision Tree 87.68430480914978\n",
      "[[  311  3401]\n",
      " [  174 25142]]\n"
     ]
    }
   ],
   "source": [
    "#DECISION TREE\n",
    "clfD = DecisionTreeClassifier(criterion=\"entropy\", max_depth=3).fit(X_train, y_train)\n",
    "predictD = clfD.predict(X_val)\n",
    "accuracy_scoreD = metrics.accuracy_score(predictD, y_val)\n",
    "print('STEM BOW-Decision Tree ' + str(accuracy_scoreD * 100))\n",
    "print(metrics.confusion_matrix(y_val, predictD))"
   ]
  },
  {
   "cell_type": "code",
   "execution_count": 15,
   "metadata": {},
   "outputs": [
    {
     "name": "stdout",
     "output_type": "stream",
     "text": [
      "STEM BOW-Decision Tree 87.4638280281108\n",
      "[[  266  3446]\n",
      " [  193 25123]]\n"
     ]
    }
   ],
   "source": [
    "#DECISION TREE\n",
    "clfD = DecisionTreeClassifier(criterion=\"entropy\", max_depth=3, splitter=\"random\").fit(X_train, y_train)\n",
    "predictD = clfD.predict(X_val)\n",
    "accuracy_scoreD = metrics.accuracy_score(predictD, y_val)\n",
    "print('STEM BOW-Decision Tree ' + str(accuracy_scoreD * 100))\n",
    "print(metrics.confusion_matrix(y_val, predictD))"
   ]
  },
  {
   "cell_type": "code",
   "execution_count": 19,
   "metadata": {},
   "outputs": [
    {
     "name": "stdout",
     "output_type": "stream",
     "text": [
      "STEM BOW-Decision Tree 88.21482706352487\n",
      "[[  568  3144]\n",
      " [  277 25039]]\n"
     ]
    }
   ],
   "source": [
    "#DECISION TREE\n",
    "clfD = DecisionTreeClassifier(max_depth=5).fit(X_train, y_train)\n",
    "predictD = clfD.predict(X_val)\n",
    "accuracy_scoreD = metrics.accuracy_score(predictD, y_val)\n",
    "print('STEM BOW-Decision Tree ' + str(accuracy_scoreD * 100))\n",
    "print(metrics.confusion_matrix(y_val, predictD))"
   ]
  },
  {
   "cell_type": "code",
   "execution_count": null,
   "metadata": {},
   "outputs": [],
   "source": []
  }
 ],
 "metadata": {
  "kernelspec": {
   "name": "python3",
   "display_name": "Python 3.8.6 64-bit",
   "metadata": {
    "interpreter": {
     "hash": "066b363d757b75dcfdfbe117fc583c5d3972e24b230ee808f3c48f10e902d911"
    }
   }
  },
  "language_info": {
   "codemirror_mode": {
    "name": "ipython",
    "version": 3
   },
   "file_extension": ".py",
   "mimetype": "text/x-python",
   "name": "python",
   "nbconvert_exporter": "python",
   "pygments_lexer": "ipython3",
   "version": "3.8.6-final"
  }
 },
 "nbformat": 4,
 "nbformat_minor": 4
}