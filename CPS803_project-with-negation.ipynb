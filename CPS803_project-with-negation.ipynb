{
 "cells": [
  {
   "cell_type": "code",
   "execution_count": null,
   "metadata": {},
   "outputs": [],
   "source": [
    "import numpy as np\n",
    "import pandas as pd\n",
    "import random\n",
    "import json\n",
    "\n",
    "import sklearn.metrics as met\n",
    "import matplotlib.pyplot as plt"
   ]
  },
  {
   "cell_type": "code",
   "execution_count": null,
   "metadata": {},
   "outputs": [],
   "source": [
    "rev = []\n",
    "with open('Software_5.json') as f:\n",
    "  for line in f:\n",
    "    rev.append(json.loads(line))\n",
    "\n",
    "#main dataframe\n",
    "test = pd.DataFrame(columns=['Summary and Review', 'Rating'])\n",
    "\n",
    "#adding data into dataframe \n",
    "for i in range(len(rev)):\n",
    "    if('overall' in rev[i] and 'reviewText' in rev[i] and 'summary' in rev[i]):\n",
    "        test.loc[i] = [rev[i]['summary'] + ' ' + rev[i]['reviewText'], rev[i]['overall']]\n",
    "#function to turn ratings into two class\n",
    "def rate(x):\n",
    "    if(x>3):\n",
    "        return 1\n",
    "    elif(x<3):\n",
    "        return 0\n",
    "    else:\n",
    "        return random.randint(0,1)\n",
    "test['Rating'] = test['Rating'].apply(rate)\n",
    "# import re\n",
    "# def removeNum(x):\n",
    "#     x = re.sub(r'[0-9]+|_', '', x)\n",
    "#     x = \" . \".join(x.split('.')).split()\n",
    "#     from nltk.sentiment.util import mark_negation\n",
    "#     x = mark_negation(x)\n",
    "#     x = \" \".join(x)\n",
    "#     return x\n",
    "# test['Summary and Review'] = test['Summary and Review'].apply(removeNum)"
   ]
  },
  {
   "cell_type": "code",
   "execution_count": null,
   "metadata": {},
   "outputs": [],
   "source": [
    "\"\"\"\n",
    "Performance Validation Methods\n",
    "\"\"\"\n",
    "\n",
    "def plt_confusionMatrix(classifier, X_test, Y_test):\n",
    "    \"\"\"\n",
    "    Given a trained classifer and test values will plot a confusion matrix.\n",
    "    \"\"\"\n",
    "    matrix = met.plot_confusion_matrix(classifier, X_test, Y_test, display_labels=['negative', 'positive'], cmap=plt.cm.Blues)\n",
    "    plt.show(matrix)\n",
    "\n",
    "def plt_precisionRecall(classifier, X_test, Y_test):\n",
    "    \"\"\"\n",
    "    Given a trained classifers and test values will plot Precision-Recall curve with average precision(AP) score.\n",
    "    \"\"\"\n",
    "    disp = met.plot_precision_recall_curve(classifier, X_test, Y_test)\n",
    "    plt.show(disp)"
   ]
  },
  {
   "cell_type": "code",
   "execution_count": null,
   "metadata": {},
   "outputs": [],
   "source": [
    "rev[0]\n",
    "test"
   ]
  },
  {
   "cell_type": "code",
   "execution_count": null,
   "metadata": {},
   "outputs": [],
   "source": [
    "from sklearn.feature_extraction.text import CountVectorizer\n",
    "from nltk.tokenize import RegexpTokenizer\n",
    "\n",
    "token= RegexpTokenizer(r'[a-zA-Z0-9]+')\n",
    "\n",
    "from sklearn.feature_extraction.text import TfidfVectorizer\n",
    "tfidf = TfidfVectorizer(stop_words='english', min_df=50, tokenizer=token.tokenize)\n",
    "text_t2 = tfidf.fit_transform(test['Summary and Review'] )\n",
    "\n",
    "cvector = CountVectorizer(stop_words='english', ngram_range=(1,1))\n",
    "text_t = cvector.fit_transform(test['Summary and Review'])"
   ]
  },
  {
   "cell_type": "code",
   "execution_count": null,
   "metadata": {},
   "outputs": [],
   "source": [
    "len(cvector.get_feature_names())"
   ]
  },
  {
   "cell_type": "code",
   "execution_count": null,
   "metadata": {},
   "outputs": [],
   "source": [
    "from sklearn.model_selection import train_test_split\n",
    "X_train, X_test, Y_train, Y_test = train_test_split(text_t, test['Rating'], test_size=0.25, random_state=5)"
   ]
  },
  {
   "cell_type": "code",
   "execution_count": null,
   "metadata": {},
   "outputs": [],
   "source": [
    "from sklearn.naive_bayes import MultinomialNB\n",
    "MNB = MultinomialNB()\n",
    "MNB.fit(X_train, Y_train)\n",
    "\n",
    "#from sklearn.naive_bayes import BernoulliNB\n",
    "#BNB = BernoulliNB()\n",
    "#BNB.fit(X_train, Y_train)\n",
    "\n",
    "\n",
    "#from sklearn.naive_bayes import GaussianNB\n",
    "#GNB = GaussianNB()\n",
    "#GNB.fit(X_train.todense(), Y_train)\n",
    "\n",
    "\n",
    "#from sklearn.naive_bayes import ComplementNB\n",
    "#CNB = ComplementNB()\n",
    "#CNB.fit(X_train, Y_train)\n",
    "\n",
    "from sklearn import metrics\n",
    "predicted = MNB.predict(X_test)\n",
    "accuracy_score = metrics.accuracy_score(predicted, Y_test)\n",
    "\n",
    "print(str('{:04.2f}'.format(accuracy_score*100))+'%')"
   ]
  },
  {
   "cell_type": "code",
   "execution_count": null,
   "metadata": {},
   "outputs": [],
   "source": [
    "plt_confusionMatrix(MNB, X_test, Y_test)"
   ]
  },
  {
   "cell_type": "code",
   "execution_count": null,
   "metadata": {},
   "outputs": [],
   "source": [
    "plt_precisionRecall(MNB, X_test, Y_test)"
   ]
  }
 ],
 "metadata": {
  "kernelspec": {
   "name": "Python 3.8.6 64-bit",
   "display_name": "Python 3.8.6 64-bit",
   "metadata": {
    "interpreter": {
     "hash": "066b363d757b75dcfdfbe117fc583c5d3972e24b230ee808f3c48f10e902d911"
    }
   }
  },
  "language_info": {
   "codemirror_mode": {
    "name": "ipython",
    "version": 3
   },
   "file_extension": ".py",
   "mimetype": "text/x-python",
   "name": "python",
   "nbconvert_exporter": "python",
   "pygments_lexer": "ipython3",
   "version": "3.8.6-final"
  }
 },
 "nbformat": 4,
 "nbformat_minor": 4
}