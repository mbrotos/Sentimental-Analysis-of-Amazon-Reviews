{
 "cells": [
  {
   "cell_type": "code",
   "execution_count": null,
   "metadata": {
    "scrolled": true
   },
   "outputs": [],
   "source": [
    "import numpy as np\n",
    "import pandas as pd\n",
    "import random\n",
    "import json\n",
    "from random import sample\n",
    "'''\n",
    "This program does random sampling \n",
    "from certain amazon review categories downloaded from\n",
    "https://nijianmo.github.io/amazon/index.html\n",
    "'''\n",
    "def findSampleSize(len):  \n",
    "    population_size = len\n",
    "    margin_error=.01\n",
    "    confidence_level=.98\n",
    "    sigma=1/2\n",
    "    alpha = 1 - (confidence_level)\n",
    "    zdict = {\n",
    "        .90: 1.645,\n",
    "        .91: 1.695,\n",
    "        .99: 2.576,\n",
    "        .97: 2.17,\n",
    "        .94: 1.881,\n",
    "        .93: 1.812,\n",
    "        .95: 1.96,\n",
    "        .98: 2.326,\n",
    "        .96: 2.054,\n",
    "        .92: 1.751\n",
    "    }\n",
    "    if confidence_level in zdict:\n",
    "        z = zdict[confidence_level]\n",
    "    else:\n",
    "        from scipy.stats import norm\n",
    "        z = norm.ppf(1 - (alpha/2))\n",
    "    N = population_size\n",
    "    M = margin_error\n",
    "    numerator = z**2 * sigma**2 * (N / (N-1))\n",
    "    denom = M**2 + ((z**2 * sigma**2)/(N-1))\n",
    "    return int(numerator/denom)\n",
    "\n",
    "mainD = pd.DataFrame(columns=['Summary and Review', 'Rating', 'Overall'])\n",
    "for file in ['AMAZON_FASHION_5.json', 'All_Beauty_5.json', 'Appliances_5.json', 'Arts_Crafts_and_Sewing_5.json', 'Automotive_5.json', 'Cell_Phones_and_Accessories_5.json', 'Clothing_Shoes_and_Jewelry_5.json', 'Electronics_5.json', 'Home_and_Kitchen_5.json', 'Luxury_Beauty_5.json', 'Office_Products_5.json', 'Sports_and_Outdoors_5.json', 'Software_5.json', 'Tools_and_Home_Improvement_5.json']: \n",
    "    print('Processing file: ' + file)\n",
    "    rev = []\n",
    "    with open(file) as f:\n",
    "      for line in f:\n",
    "        rev.append(json.loads(line))\n",
    "    \n",
    "    rev = sample(rev,findSampleSize(len(rev)))\n",
    "    #main dataframe\n",
    "    test = pd.DataFrame(columns=['Summary and Review', 'Rating', 'Overall'])\n",
    "\n",
    "    #adding data into dataframe \n",
    "    for i in range(len(rev)):\n",
    "        if('overall' in rev[i] and 'reviewText' in rev[i] and 'summary' in rev[i]):\n",
    "            test.loc[i] = [rev[i]['summary'] + '. ' + rev[i]['reviewText'], rev[i]['overall'], rev[i]['overall']]\n",
    "    #function to turn ratings into two class\n",
    "    def rate(x):\n",
    "        if(x>3):\n",
    "            return 1\n",
    "        elif(x<3):\n",
    "            return 0\n",
    "        else:\n",
    "            return random.randint(0,1)\n",
    "    test['Rating'] = test['Rating'].apply(rate)\n",
    "    mainD = mainD.append(test, ignore_index = True)\n",
    "    print('*******FILE PROCESSED*******')\n",
    "mainD.to_csv('merged.csv')"
   ]
  },
  {
   "cell_type": "code",
   "execution_count": null,
   "metadata": {},
   "outputs": [],
   "source": []
  },
  {
   "cell_type": "code",
   "execution_count": null,
   "metadata": {},
   "outputs": [],
   "source": []
  },
  {
   "cell_type": "code",
   "execution_count": null,
   "metadata": {},
   "outputs": [],
   "source": []
  },
  {
   "cell_type": "code",
   "execution_count": null,
   "metadata": {},
   "outputs": [],
   "source": []
  },
  {
   "cell_type": "code",
   "execution_count": null,
   "metadata": {},
   "outputs": [],
   "source": []
  },
  {
   "cell_type": "code",
   "execution_count": null,
   "metadata": {},
   "outputs": [],
   "source": []
  },
  {
   "cell_type": "code",
   "execution_count": null,
   "metadata": {},
   "outputs": [],
   "source": []
  },
  {
   "cell_type": "code",
   "execution_count": null,
   "metadata": {},
   "outputs": [],
   "source": []
  },
  {
   "cell_type": "code",
   "execution_count": null,
   "metadata": {},
   "outputs": [],
   "source": []
  },
  {
   "cell_type": "code",
   "execution_count": null,
   "metadata": {},
   "outputs": [],
   "source": []
  },
  {
   "cell_type": "code",
   "execution_count": null,
   "metadata": {},
   "outputs": [],
   "source": []
  },
  {
   "cell_type": "code",
   "execution_count": null,
   "metadata": {},
   "outputs": [],
   "source": []
  },
  {
   "cell_type": "code",
   "execution_count": null,
   "metadata": {},
   "outputs": [],
   "source": []
  }
 ],
 "metadata": {
  "kernelspec": {
   "display_name": "Python 3",
   "language": "python",
   "name": "python3"
  },
  "language_info": {
   "codemirror_mode": {
    "name": "ipython",
    "version": 3
   },
   "file_extension": ".py",
   "mimetype": "text/x-python",
   "name": "python",
   "nbconvert_exporter": "python",
   "pygments_lexer": "ipython3",
   "version": "3.7.6"
  }
 },
 "nbformat": 4,
 "nbformat_minor": 4
}
